{
 "cells": [
  {
   "cell_type": "markdown",
   "metadata": {},
   "source": [
    "# Stability, order and accuracy for non-stiff and stiff equations"
   ]
  },
  {
   "cell_type": "code",
   "execution_count": null,
   "metadata": {
    "hidePrompt": true,
    "tags": []
   },
   "outputs": [],
   "source": [
    "import numpy as np\n",
    "from scipy.optimize import root\n",
    "import plotly.graph_objects as go\n",
    "from plotly.subplots import make_subplots\n",
    "import plotly.io as pio\n",
    "pio.templates.default = \"seaborn\""
   ]
  },
  {
   "cell_type": "markdown",
   "metadata": {},
   "source": [
    "## Curtiss and Hirschfelder\n",
    "\n",
    "We consider the following problem :\n",
    "\n",
    "$$\n",
    "\\left\\{ \n",
    "\\begin{aligned} \n",
    "{\\mathrm d}_t u(t) & = k \\, \\big(cos(t) - u(t)) \\big) \\quad \\text{with } k > 1\\\\ \n",
    "u(t_0)  & = u_0 \n",
    "\\end{aligned} \n",
    "\\right. \n",
    "$$\n",
    "\n",
    "and in the following, we will assume $t_0=0$."
   ]
  },
  {
   "cell_type": "markdown",
   "metadata": {},
   "source": [
    "### Stiffness\n",
    "\n",
    "The exact solution is given by :\n",
    "\n",
    "$$\n",
    "u(t) = \\frac{k}{k^2+1} \\bigg( k \\cos(t) + \\sin(t) \\bigg) + c_0 \\, e^{-k t} \\quad\n",
    "\\text{avec} \\quad c_0 = \\bigg( u_0 -\\frac{k}{k^2 + 1} \\Big( k \\cos(t_0) + \\sin(t_0) \\Big) \\bigg)  e^{-k t_0}   \n",
    "$$"
   ]
  },
  {
   "cell_type": "code",
   "execution_count": null,
   "metadata": {
    "tags": [
     "hide-input"
    ]
   },
   "outputs": [],
   "source": [
    "class curtiss_model:\n",
    "\n",
    "    def __init__(self, k):\n",
    "        self.k = k\n",
    "\n",
    "    def fcn(self, t, u) :\n",
    "        k = self.k\n",
    "        u_dot = k * (np.cos(t) - u)\n",
    "        return u_dot\n",
    "\n",
    "    def sol(self, uini, t0, t):\n",
    "        k = self.k\n",
    "\n",
    "        c0 = (uini - (k/(k*k + 1)) * (k*np.cos(t0) + np.sin(t0))) * np.exp(k*t0)\n",
    "        u = (k/(k*k + 1)) * (k*np.cos(t) + np.sin(t)) +  c0 * np.exp(-k*t)\n",
    "        return u"
   ]
  },
  {
   "cell_type": "code",
   "execution_count": null,
   "metadata": {},
   "outputs": [],
   "source": [
    "uini = 2.\n",
    "tini = 0.\n",
    "tend = 10.\n",
    "k = 10.\n",
    "\n",
    "cm = curtiss_model(k)\n",
    "    \n",
    "texa = np.linspace(tini, tend, 1000)\n",
    "uexa = cm.sol(uini, tini, texa)\n",
    "\n",
    "fig = go.Figure()\n",
    "fig.add_trace(go.Scatter(x=texa, y=uexa, name='f(x)'))\n",
    "\n",
    "#create slider\n",
    "steps = []\n",
    "for k_i in range(10, 101, 10):\n",
    "    cm = curtiss_model(k_i)\n",
    "    step = dict(method=\"update\", label = f\"{k_i}\", args=[{\"x\": [texa], \"y\": [cm.sol(uini, tini, texa)]}])\n",
    "    steps.append(step)\n",
    "sliders = [dict(currentvalue={'prefix': 'k = '}, steps=steps)]\n",
    "\n",
    "fig.update_layout(sliders=sliders, title = 'Exact solution of the Curtiss and Hirschfelder equation', \n",
    "                  xaxis_title=\"t\", yaxis_title=\"u\")\n",
    "fig['layout']['sliders'][0]['pad']=dict(t= 50)\n",
    "fig.show()"
   ]
  },
  {
   "cell_type": "markdown",
   "metadata": {},
   "source": [
    "## Explicit Euler\n",
    "\n",
    "The explicit Euler method to solve ${\\mathrm d}_t u(t) = f(t,u)$ with $u(0)=u_0$ can be written :\n",
    "\n",
    "$$\n",
    "\\left\\{\n",
    "\\begin{aligned}\n",
    "& U^0 = u_0 \\\\\n",
    "& U^{n+1} = U^n + \\Delta t \\; f(t^n,U^n) \\quad \\text{where} \\quad \\Delta t = t^{n+1} - t^n\n",
    "\\end{aligned}\n",
    "\\right.\n",
    "$$"
   ]
  },
  {
   "cell_type": "code",
   "execution_count": null,
   "metadata": {
    "tags": [
     "hide-input"
    ]
   },
   "outputs": [],
   "source": [
    "#####################################################\n",
    "class ode_result:\n",
    "    def __init__(self, y, t):\n",
    "        self.y = y\n",
    "        self.t = t\n",
    "\n",
    "#####################################################\n",
    "def forward_euler(tini, tend, nt, yini, fcn):\n",
    "\n",
    "    dt = (tend-tini) / (nt-1)\n",
    "    t = np.linspace(tini, tend, nt)\n",
    "\n",
    "    yini = np.atleast_1d(yini)\n",
    "    neq = yini.size\n",
    "\n",
    "    y = np.zeros((neq, nt))\n",
    "    y[:,0] = yini\n",
    "\n",
    "    for it, tn  in enumerate(t[:-1]):\n",
    "        yn = y[:,it]\n",
    "        y[:,it+1] = yn + dt*np.array(fcn(tn, yn))\n",
    "\n",
    "    return ode_result(y, t)"
   ]
  },
  {
   "cell_type": "markdown",
   "metadata": {},
   "source": [
    "### Solution and error"
   ]
  },
  {
   "cell_type": "code",
   "execution_count": null,
   "metadata": {
    "tags": [
     "hide-input"
    ]
   },
   "outputs": [],
   "source": [
    "def sol_and_error_curtiss(yini, tini, tend, k, nt, method):\n",
    "    \n",
    "    if method == forward_euler:\n",
    "        str_method = \"Explicit euler\"\n",
    "    elif method == backward_euler:\n",
    "        str_method = \"Implicit euler\"\n",
    "    else:\n",
    "        print(\"Unknown method\")\n",
    "        return\n",
    "    \n",
    "    cm = curtiss_model(k)\n",
    "    fcn = cm.fcn\n",
    "    \n",
    "    texa = np.linspace(tini, tend, 500)\n",
    "    yexa = cm.sol(yini, tini, texa)\n",
    "\n",
    "    nt_max= nt[-1]\n",
    "    dt_max = (tend-tini)/(nt_max-1)\n",
    "    sol = method(tini, tend, nt_max, yini, fcn)\n",
    "    err = np.abs(sol.y[0]-cm.sol(yini, tini, sol.t))[1:]\n",
    "    \n",
    "    # first plot\n",
    "    fig = make_subplots(rows=2, cols=1, vertical_spacing=0.15)\n",
    "    color = fig.layout.template.layout.colorway\n",
    "    fig.add_trace(go.Scatter(x=texa, y=yexa, name='exact sol', line_color='grey', legendgroup = 'sol'), \n",
    "                  row=1, col=1)\n",
    "    fig.add_trace(go.Scatter(x=sol.t, y=sol.y[0], mode='markers+lines', line_dash='dot', #marker=marker01, \n",
    "                             line_color=color[0], name='Sol. num', legendgroup = 'sol'), row=1, col=1)\n",
    "    fig.add_trace(go.Scatter(x=sol.t[1:], y=err, mode='markers+lines', line_dash='dot', #marker=marker02, \n",
    "                             line_color=color[1], name='erreur', legendgroup = 'err'), row=2, col=1)\n",
    "    \n",
    "    # create slider\n",
    "    steps = []\n",
    "    for i, nt_i in enumerate(nt):\n",
    "        sol = method(tini, tend, nt_i, yini, fcn)\n",
    "        err = np.abs(sol.y[0]-cm.sol(yini, tini, sol.t))[1:]\n",
    "        dt = (tend-tini)/(nt_i-1)\n",
    "        step = dict(method=\"update\", label = f\"{nt_i}\", args=[{\"x\": [texa, sol.t, sol.t[1:]], \n",
    "                                                               \"y\": [yexa, sol.y[0], err]},\n",
    "                {\"title\": f\"Solution and error for k={int(k)}, dt={dt:.4e} and k.dt={k*dt:.2f}\"}])\n",
    "        steps.append(step)\n",
    "\n",
    "    sliders = [dict(active=len(nt)-1, currentvalue={\"prefix\": \"nt : \"}, steps=steps)]\n",
    "\n",
    "    fig.update_xaxes(title='t')\n",
    "    fig.update_yaxes(row=1, col=1, title='u')\n",
    "    fig.update_yaxes(row=2, col=1, exponentformat='e', title='|error|')\n",
    "    legend = dict(tracegroupgap=300, groupclick=\"toggleitem\", x=0.8, bgcolor='rgba(0,0,0,0)')\n",
    "    fig.update_layout(height=800, sliders=sliders, legend=legend, \n",
    "                      title=str_method+ f\" : solution and error for k={int(k)}, dt={dt_max:.3e} and k.dt={k*dt:.2f}\")\n",
    "    fig['layout']['sliders'][0]['pad']=dict(t= 50)\n",
    "    fig.show()"
   ]
  },
  {
   "cell_type": "code",
   "execution_count": null,
   "metadata": {},
   "outputs": [],
   "source": [
    "yini = 2.\n",
    "tini = 0.\n",
    "tend = 2.\n",
    "k = 50.\n",
    "\n",
    "nt_max = 200\n",
    "nt = np.hstack((np.arange(k-5, k+2, 1, dtype=int) , np.geomspace(k+2, nt_max, num=12, dtype=int)))\n",
    "\n",
    "sol_and_error_curtiss(yini, tini, tend, k, nt, forward_euler)"
   ]
  },
  {
   "cell_type": "markdown",
   "metadata": {},
   "source": [
    "### Order"
   ]
  },
  {
   "cell_type": "code",
   "execution_count": null,
   "metadata": {
    "tags": []
   },
   "outputs": [],
   "source": [
    "uini = 2.\n",
    "tini = 0.\n",
    "tend = 2.\n",
    "cm = curtiss_model(k=100)\n",
    "fcn = cm.fcn\n",
    "\n",
    "nt = np.array([201, 2001, 20001, 200001])\n",
    "\n",
    "err_1   = np.zeros_like(nt, dtype=float)\n",
    "err_2   = np.zeros_like(nt, dtype=float)\n",
    "err_inf = np.zeros_like(nt, dtype=float)\n",
    "\n",
    "for i, nt_i in enumerate(nt):\n",
    "    sol = forward_euler(tini, tend, nt_i, uini, fcn)\n",
    "    uerr = np.abs(cm.sol(uini, tini, sol.t) - sol.y[0])\n",
    "    err_1[i]   = np.linalg.norm(uerr,1) / nt_i\n",
    "    err_2[i]   = np.linalg.norm(uerr) / np.sqrt(nt_i)   \n",
    "    err_inf[i] = np.linalg.norm(uerr,np.inf) \n",
    "\n",
    "dt = (tend-tini)/(nt-1)\n",
    "\n",
    "fig = go.Figure()\n",
    "fig.add_trace(go.Scatter(x=dt, y=err_1, name='Norm l1'))\n",
    "fig.add_trace(go.Scatter(x=dt, y=err_2, name='Norm l2'))\n",
    "fig.add_trace(go.Scatter(x=dt, y=err_inf, name='Norm linf'))\n",
    "fig.add_trace(go.Scatter(x=dt, y=dt, mode='lines', line_dash='dot', name='slope 1'))\n",
    "fig.update_xaxes(type='log', exponentformat='e', title='dt')\n",
    "fig.update_yaxes(type='log', exponentformat='e', title='error norm')\n",
    "fig.show()"
   ]
  },
  {
   "cell_type": "markdown",
   "metadata": {},
   "source": [
    "## Backward Euler\n",
    "\n",
    "The backward Euler method to solve ${\\mathrm d}_t u(t) = f(t,u)$ with $u(0) = u_0$ can be written :\n",
    "\n",
    "\\begin{equation*}\n",
    "\\left\\{\n",
    "\\begin{aligned}\n",
    "& U^0 = u_0 \\\\\n",
    "& U^{n+1} = U^n + \\Delta t \\; f(t^{n+1},U^{n+1}), \\qquad \\Delta t = t^{n+1} - t^n,\n",
    "\\end{aligned}\n",
    "\\right.\n",
    "\\end{equation*}"
   ]
  },
  {
   "cell_type": "code",
   "execution_count": null,
   "metadata": {
    "tags": [
     "hide-input"
    ]
   },
   "outputs": [],
   "source": [
    "#####################################################\n",
    "def backward_euler(tini, tend, nt, yini, fcn):\n",
    "\n",
    "    dt = (tend-tini) / (nt-1)\n",
    "    t = np.linspace(tini, tend, nt)\n",
    "\n",
    "    yini = np.atleast_1d(yini)\n",
    "    neq = yini.size\n",
    "\n",
    "    y = np.zeros((neq, nt))\n",
    "    y[:,0] = yini\n",
    "\n",
    "    def g(uip1, *args):\n",
    "        uip, tip1 = args\n",
    "        return uip1 - uip - dt*np.array(fcn(tip1, uip1))\n",
    "\n",
    "    for it, tn  in enumerate(t[:-1]):\n",
    "        yn = y[:,it]\n",
    "        y0 = yn + dt*np.array(fcn(tn, yn))\n",
    "        # solve y[:,it+1] - y[:,it] - dt * fcn(tini + (it+1)*dt, y[:,it+1]) = 0\n",
    "        sol = root(g, y0, (yn, tn+dt))\n",
    "        y[:,it+1] = sol.x\n",
    "\n",
    "    return ode_result(y, t)"
   ]
  },
  {
   "cell_type": "markdown",
   "metadata": {},
   "source": [
    "### Solution and error"
   ]
  },
  {
   "cell_type": "code",
   "execution_count": null,
   "metadata": {},
   "outputs": [],
   "source": [
    "yini = 2.\n",
    "tini = 0.\n",
    "tend = 2.\n",
    "k = 60.\n",
    "\n",
    "nt_max = 200\n",
    "nt = np.linspace(10, nt_max, 20, dtype=int)\n",
    "\n",
    "sol_and_error_curtiss(yini, tini, tend, k, nt, backward_euler)"
   ]
  },
  {
   "cell_type": "markdown",
   "metadata": {},
   "source": [
    "### Order"
   ]
  },
  {
   "cell_type": "code",
   "execution_count": null,
   "metadata": {},
   "outputs": [],
   "source": [
    "uini = 2.\n",
    "tini = 0.\n",
    "tend = 2.\n",
    "cm = curtiss_model(k=100)\n",
    "fcn = cm.fcn\n",
    "\n",
    "nt = np.array([201, 2001, 20001, 200001])\n",
    "\n",
    "err_1   = np.zeros_like(nt, dtype=float)\n",
    "err_2   = np.zeros_like(nt, dtype=float)\n",
    "err_inf = np.zeros_like(nt, dtype=float)\n",
    "\n",
    "for i, nt_i in enumerate(nt):\n",
    "    sol = backward_euler(tini, tend, nt_i, uini, fcn)\n",
    "    uerr = np.abs(cm.sol(uini, tini, sol.t) - sol.y[0])\n",
    "    err_1[i]   = np.linalg.norm(uerr,1) / nt_i\n",
    "    err_2[i]   = np.linalg.norm(uerr) / np.sqrt(nt_i)   \n",
    "    err_inf[i] = np.linalg.norm(uerr,np.inf) \n",
    "\n",
    "dt = (tend-tini)/(nt-1)\n",
    "\n",
    "fig = go.Figure()\n",
    "fig.add_trace(go.Scatter(x=dt, y=err_1, name='Norm l1'))\n",
    "fig.add_trace(go.Scatter(x=dt, y=err_2, name='Norm l2'))\n",
    "fig.add_trace(go.Scatter(x=dt, y=err_inf, name='Norm linf'))\n",
    "fig.add_trace(go.Scatter(x=dt, y=dt, mode='lines', line_dash='dot', name='slope 1'))\n",
    "fig.update_xaxes(type='log', exponentformat='e', title='dt')\n",
    "fig.update_yaxes(type='log', exponentformat='e', title='error norm')\n",
    "fig.show()"
   ]
  }
 ],
 "metadata": {
  "@webio": {
   "lastCommId": null,
   "lastKernelId": null
  },
  "celltoolbar": "Format de la Cellule Texte Brut",
  "kernelspec": {
   "display_name": "Python 3 (ipykernel)",
   "language": "python",
   "name": "python3"
  },
  "language_info": {
   "codemirror_mode": {
    "name": "ipython",
    "version": 3
   },
   "file_extension": ".py",
   "mimetype": "text/x-python",
   "name": "python",
   "nbconvert_exporter": "python",
   "pygments_lexer": "ipython3",
   "version": "3.10.6"
  }
 },
 "nbformat": 4,
 "nbformat_minor": 4
}
